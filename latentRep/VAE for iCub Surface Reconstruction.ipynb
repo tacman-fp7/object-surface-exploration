{
 "cells": [
  {
   "cell_type": "code",
   "execution_count": null,
   "metadata": {
    "collapsed": false
   },
   "outputs": [],
   "source": [
    "import os\n",
    "\n",
    "import numpy as np\n",
    "import pandas as pd\n",
    "\n",
    "import climin\n",
    "import climin.stops\n",
    "\n",
    "import theano\n",
    "import theano.tensor as T\n",
    "\n",
    "from breze.learn import sgvb\n",
    "from breze.learn.base import theanox\n",
    "from breze.arch.construct.layer.distributions import DiagGauss\n",
    "from breze.arch.construct.neural import Mlp\n",
    "\n",
    "import matplotlib\n",
    "from matplotlib import pyplot as plt\n",
    "%matplotlib inline"
   ]
  },
  {
   "cell_type": "code",
   "execution_count": null,
   "metadata": {
    "collapsed": false
   },
   "outputs": [],
   "source": [
    "GPU = theano.config.device.startswith('gpu')\n",
    "if GPU:\n",
    "    import os\n",
    "    os.environ['GNUMPY_IMPLICIT_CONVERSION'] = 'allow'"
   ]
  },
  {
   "cell_type": "markdown",
   "metadata": {},
   "source": [
    "## Loading Data"
   ]
  },
  {
   "cell_type": "code",
   "execution_count": null,
   "metadata": {
    "collapsed": true
   },
   "outputs": [],
   "source": [
    "# forlder names for each object to be reconstructed\n",
    "object_folders = ['cirPrism', 'fish', 'fishSQ', 'hut', 'hutWave', 'triangPrism']"
   ]
  },
  {
   "cell_type": "code",
   "execution_count": null,
   "metadata": {
    "collapsed": false
   },
   "outputs": [],
   "source": [
    "contact_objects = [np.array(pd.read_csv('data/'+f+'/set01-trial01//contactPoints.csv'))[:, :3] for f in object_folders]\n",
    "contact = np.concatenate(contact_objects, 0).astype('float32')\n",
    "\n",
    "taxel_objects = [pd.read_csv('data/'+f+'/set01-trial01//contactTactileRaw.csv') for f in object_folders]\n",
    "taxel = np.concatenate(taxel_objects, 0).astype('float32')"
   ]
  },
  {
   "cell_type": "code",
   "execution_count": null,
   "metadata": {
    "collapsed": true
   },
   "outputs": [],
   "source": [
    "# split dataset\n",
    "ind = np.arange(taxel.shape[0])\n",
    "#np.random.shuffle(ind)\n",
    "split = 0.7"
   ]
  },
  {
   "cell_type": "code",
   "execution_count": null,
   "metadata": {
    "collapsed": true
   },
   "outputs": [],
   "source": [
    "X = taxel[ind[:int(len(ind)*split)]]\n",
    "TX = taxel[ind[int(len(ind)*split):]]"
   ]
  },
  {
   "cell_type": "markdown",
   "metadata": {},
   "source": [
    "## Normalisation"
   ]
  },
  {
   "cell_type": "code",
   "execution_count": null,
   "metadata": {
    "collapsed": false
   },
   "outputs": [],
   "source": [
    "mean = X.mean(0)\n",
    "X -= mean\n",
    "std = X.std(0)\n",
    "X /= std\n",
    "TX -= mean\n",
    "TX /= std"
   ]
  },
  {
   "cell_type": "markdown",
   "metadata": {},
   "source": [
    "## Train Variational Autoencoder"
   ]
  },
  {
   "cell_type": "code",
   "execution_count": null,
   "metadata": {
    "collapsed": true
   },
   "outputs": [],
   "source": [
    "class MlpDiagConstVarGauss(DiagGauss):\n",
    "    def __init__(self, inpt, n_inpt, n_hiddens, n_output,\n",
    "                 hidden_transfers, out_transfer_mean='identity',\n",
    "                 declare=None, name=None, rng=None):\n",
    "        self.inpt = inpt\n",
    "        self.n_inpt = n_inpt\n",
    "        self.n_hiddens = n_hiddens\n",
    "        self.n_output = n_output\n",
    "        self.hidden_transfers = hidden_transfers\n",
    "        self.out_transfer_mean = out_transfer_mean\n",
    "        self.mean_mlp = Mlp(\n",
    "            self.inpt, self.n_inpt, self.n_hiddens, self.n_output,\n",
    "            self.hidden_transfers,\n",
    "            self.out_transfer_mean,\n",
    "            declare=declare)\n",
    "        self.std = declare((1, n_output))\n",
    "        super(MlpDiagConstVarGauss, self).__init__(\n",
    "            self.mean_mlp.output,\n",
    "            T.exp(self.std))\n",
    "            \n",
    "            \n",
    "class MlpGaussConstVarVisibleVAEMixin(object):\n",
    "    def make_gen(self, latent_sample):\n",
    "        return MlpDiagConstVarGauss(\n",
    "            latent_sample, self.n_latent,\n",
    "            self.n_hiddens_gen,\n",
    "            self.n_inpt,\n",
    "            self.gen_transfers,\n",
    "            declare=self.parameters.declare)\n",
    "\n",
    "class MyVae(sgvb.VariationalAutoEncoder,\n",
    "                    sgvb.MlpGaussLatentVAEMixin,\n",
    "                    MlpGaussConstVarVisibleVAEMixin):\n",
    "    pass\n",
    "\n",
    "optimizer = 'rmsprop', {'step_rate': 0.001}\n",
    "batch_size = 200\n",
    "\n",
    "n_latent = 5\n",
    "\n",
    "hiddens_recog = [512] * 2\n",
    "m = MyVae( int(X.shape[1]),\n",
    "                    hiddens_recog, n_latent, [512] * 2,\n",
    "                    ['sigmoid'] * 2, ['sigmoid'] * 2,\n",
    "                    optimizer=optimizer, batch_size= batch_size)"
   ]
  },
  {
   "cell_type": "code",
   "execution_count": null,
   "metadata": {
    "collapsed": true
   },
   "outputs": [],
   "source": [
    "climin.initialize.randomize_normal(m.parameters.data, 0, 0.1)"
   ]
  },
  {
   "cell_type": "code",
   "execution_count": null,
   "metadata": {
    "collapsed": true
   },
   "outputs": [],
   "source": [
    "m.optimizer = 'adam'"
   ]
  },
  {
   "cell_type": "code",
   "execution_count": null,
   "metadata": {
    "collapsed": false
   },
   "outputs": [],
   "source": [
    "max_passes = 1000\n",
    "max_iter = max_passes * X.shape[0] / batch_size\n",
    "n_report = X.shape[0] / batch_size\n",
    "\n",
    "stop = climin.stops.AfterNIterations(max_iter)\n",
    "pause = climin.stops.ModuloNIterations(n_report)\n",
    "\n",
    "for i, info in enumerate(m.powerfit((X,), (X[0:1],), stop, pause)):\n",
    "    print i, info['loss'], info['val_loss']"
   ]
  },
  {
   "cell_type": "code",
   "execution_count": null,
   "metadata": {
    "collapsed": false
   },
   "outputs": [],
   "source": [
    "f_latents = m.function(['inpt'], m.vae.recog.sample())\n",
    "f_meanvar = m.function(['inpt'], m.vae.recog.stt)"
   ]
  },
  {
   "cell_type": "markdown",
   "metadata": {},
   "source": [
    "## Compute latent values and save plots"
   ]
  },
  {
   "cell_type": "code",
   "execution_count": null,
   "metadata": {
    "collapsed": false
   },
   "outputs": [],
   "source": [
    "for c, t, f in zip(contact_objects, taxel_objects, object_folders):\n",
    "    plt.figure()\n",
    "    l=f_meanvar(theanox((t-mean)/std).astype('float32'))\n",
    "    for i in range(l.shape[1]):\n",
    "        plt.scatter(c[:, 0], c[:, 1], c=l[:,i])\n",
    "        plt.axis('equal')\n",
    "        plt.savefig('data/'+f+'/latent_'+str(i)+'.png')"
   ]
  },
  {
   "cell_type": "markdown",
   "metadata": {},
   "source": [
    "## Save parameters for prediction with standalone python script"
   ]
  },
  {
   "cell_type": "code",
   "execution_count": null,
   "metadata": {
    "collapsed": true
   },
   "outputs": [],
   "source": [
    "for i,l in enumerate(m.vae.recog.mlp.layers):\n",
    "    np.save('data/W' + str(i) + '.npy', m.parameters[l.weights])\n",
    "    np.save('data/b' + str(i) + '.npy', m.parameters[l.bias])\n",
    "np.save('data/mean.npy', mean)\n",
    "np.save('data/std.npy', std)"
   ]
  },
  {
   "cell_type": "markdown",
   "metadata": {},
   "source": [
    "## Test output from external python script"
   ]
  },
  {
   "cell_type": "code",
   "execution_count": null,
   "metadata": {
    "collapsed": true
   },
   "outputs": [],
   "source": [
    "__latents = np.genfromtxt('./data/cirPrism/set01-trial01/latent.csv', delimiter=',')\n",
    "__coord = np.genfromtxt('./data/cirPrism/set01-trial01/contactPoints.csv', delimiter=',')"
   ]
  },
  {
   "cell_type": "code",
   "execution_count": null,
   "metadata": {
    "collapsed": false
   },
   "outputs": [],
   "source": [
    "plt.scatter(__coord[:, 0], __coord[:, 1], c=__latents[:,1])\n",
    "plt.axis('equal');"
   ]
  },
  {
   "cell_type": "code",
   "execution_count": null,
   "metadata": {
    "collapsed": true
   },
   "outputs": [],
   "source": []
  },
  {
   "cell_type": "code",
   "execution_count": null,
   "metadata": {
    "collapsed": true
   },
   "outputs": [],
   "source": []
  }
 ],
 "metadata": {
  "kernelspec": {
   "display_name": "Python 2",
   "language": "python",
   "name": "python2"
  },
  "language_info": {
   "codemirror_mode": {
    "name": "ipython",
    "version": 2
   },
   "file_extension": ".py",
   "mimetype": "text/x-python",
   "name": "python",
   "nbconvert_exporter": "python",
   "pygments_lexer": "ipython2",
   "version": "2.7.12"
  }
 },
 "nbformat": 4,
 "nbformat_minor": 0
}
